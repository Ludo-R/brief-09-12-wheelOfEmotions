{
 "cells": [
  {
   "cell_type": "markdown",
   "metadata": {},
   "source": [
    "# Wheel of emotions"
   ]
  },
  {
   "cell_type": "code",
   "execution_count": 111,
   "metadata": {},
   "outputs": [],
   "source": [
    "#import library\n",
    "import pandas as pd\n",
    "import numpy as np\n",
    "import matplotlib.pyplot as plt\n",
    "import nltk\n",
    "from sklearn.preprocessing import StandardScaler\n",
    "from sklearn.feature_extraction.text import TfidfTransformer, CountVectorizer\n",
    "from sklearn.linear_model import LogisticRegression, SGDClassifier\n",
    "from sklearn.svm import SVC\n",
    "from sklearn.model_selection import train_test_split\n",
    "from sklearn.metrics import classification_report, f1_score, recall_score, precision_score\n",
    "from sklearn.neighbors import KNeighborsClassifier\n",
    "from sklearn.tree import DecisionTreeClassifier\n",
    "from sklearn.pipeline import Pipeline, FeatureUnion\n",
    "from sklearn.decomposition import FastICA, KernelPCA, TruncatedSVD, SparsePCA, NMF, FactorAnalysis, LatentDirichletAllocation\n",
    "from sklearn.model_selection import ShuffleSplit\n",
    "from time import time\n",
    "from collections import defaultdict"
   ]
  },
  {
   "cell_type": "markdown",
   "metadata": {},
   "source": [
    "## Propose several models of classification of emotions and propose a qualitative and quantitative analysis of these models according to evaluation criteria."
   ]
  },
  {
   "cell_type": "code",
   "execution_count": 2,
   "metadata": {},
   "outputs": [],
   "source": [
    "#define stopwords and vectorizer\n",
    "stopwords = nltk.corpus.stopwords.words('english')\n",
    "vectoriser = CountVectorizer(ngram_range=(1,2), stop_words = stopwords )\n"
   ]
  },
  {
   "cell_type": "code",
   "execution_count": 3,
   "metadata": {},
   "outputs": [],
   "source": [
    "#define all classification model\n",
    "logreg = LogisticRegression(max_iter = 1000)\n",
    "svclass = SVC()\n",
    "sgdc = SGDClassifier(max_iter = 5000)\n",
    "knn = KNeighborsClassifier(n_neighbors=10)\n",
    "dtree = DecisionTreeClassifier(random_state=0)\n",
    "\n",
    "#define fit and predict function\n",
    "def fitting(X, y, mod):\n",
    "    mod.fit(X, y)\n",
    "\n",
    "def predict(X, mod):\n",
    "    xx = mod.predict(X)\n",
    "    return xx"
   ]
  },
  {
   "cell_type": "markdown",
   "metadata": {},
   "source": [
    "## First have to work with the dataset from Kaggle to carry out your training and the evaluation of your models."
   ]
  },
  {
   "cell_type": "code",
   "execution_count": 4,
   "metadata": {},
   "outputs": [],
   "source": [
    "#import data\n",
    "df = pd.read_csv(\"data/emotion_final.csv\")"
   ]
  },
  {
   "cell_type": "code",
   "execution_count": 5,
   "metadata": {},
   "outputs": [
    {
     "name": "stdout",
     "output_type": "stream",
     "text": [
      "<class 'pandas.core.frame.DataFrame'>\n",
      "RangeIndex: 21459 entries, 0 to 21458\n",
      "Data columns (total 2 columns):\n",
      " #   Column   Non-Null Count  Dtype \n",
      "---  ------   --------------  ----- \n",
      " 0   Text     21459 non-null  object\n",
      " 1   Emotion  21459 non-null  object\n",
      "dtypes: object(2)\n",
      "memory usage: 335.4+ KB\n"
     ]
    }
   ],
   "source": [
    "df.info()"
   ]
  },
  {
   "cell_type": "code",
   "execution_count": 6,
   "metadata": {},
   "outputs": [],
   "source": [
    "#define x,y and clean data\n",
    "x = np.array(df[\"Text\"])\n",
    "y = np.array(df[\"Emotion\"])\n",
    "\n",
    "x = vectoriser.fit_transform(x)\n",
    "\n",
    "#define result dict\n",
    "\n",
    "result = {}"
   ]
  },
  {
   "cell_type": "markdown",
   "metadata": {},
   "source": [
    "### Logistic Regression"
   ]
  },
  {
   "cell_type": "code",
   "execution_count": 7,
   "metadata": {},
   "outputs": [],
   "source": [
    "#Split data\n",
    "x_train, x_test, y_train, y_test = train_test_split(x, y, test_size=0.20, random_state=0)\n",
    "\n",
    "#fit and predict\n",
    "fitting(x_train, y_train, logreg)\n",
    "ypred = predict(x_test, logreg)"
   ]
  },
  {
   "cell_type": "code",
   "execution_count": 8,
   "metadata": {},
   "outputs": [],
   "source": [
    "logreg_f1 = f1_score(y_test, ypred, average=\"weighted\")\n",
    "logreg_recall = recall_score(y_test, ypred, average=\"weighted\")\n",
    "logreg_precision = precision_score(y_test, ypred, average=\"weighted\")\n",
    "result['logreg'] = logreg_f1, logreg_recall, logreg_precision"
   ]
  },
  {
   "cell_type": "markdown",
   "metadata": {},
   "source": [
    "### SVC"
   ]
  },
  {
   "cell_type": "code",
   "execution_count": 9,
   "metadata": {},
   "outputs": [],
   "source": [
    "x_train, x_test, y_train, y_test = train_test_split(x, y, test_size=0.20, random_state=0)\n",
    "\n",
    "fitting(x_train, y_train, svclass)\n",
    "ypred = predict(x_test, svclass)"
   ]
  },
  {
   "cell_type": "code",
   "execution_count": 10,
   "metadata": {},
   "outputs": [],
   "source": [
    "svclass_f1 = f1_score(y_test, ypred, average=\"weighted\")\n",
    "svclass_recall = recall_score(y_test, ypred, average=\"weighted\")\n",
    "svclass_precision = precision_score(y_test, ypred, average=\"weighted\")\n",
    "result['svc'] = svclass_f1, svclass_recall, svclass_precision"
   ]
  },
  {
   "cell_type": "markdown",
   "metadata": {},
   "source": [
    "### SGD"
   ]
  },
  {
   "cell_type": "code",
   "execution_count": 11,
   "metadata": {},
   "outputs": [],
   "source": [
    "x_train, x_test, y_train, y_test = train_test_split(x, y, test_size=0.20, random_state=0)\n",
    "\n",
    "fitting(x_train, y_train, sgdc)\n",
    "ypred = predict(x_test, sgdc)"
   ]
  },
  {
   "cell_type": "code",
   "execution_count": 12,
   "metadata": {},
   "outputs": [],
   "source": [
    "sgdc_f1 = f1_score(y_test, ypred, average=\"weighted\")\n",
    "sgdc_recall = recall_score(y_test, ypred, average=\"weighted\")\n",
    "sgdc_precision = precision_score(y_test, ypred, average=\"weighted\")\n",
    "result['sgdc'] = sgdc_f1, sgdc_recall, sgdc_precision"
   ]
  },
  {
   "cell_type": "markdown",
   "metadata": {},
   "source": [
    "### KNN"
   ]
  },
  {
   "cell_type": "code",
   "execution_count": 13,
   "metadata": {},
   "outputs": [],
   "source": [
    "x_train, x_test, y_train, y_test = train_test_split(x, y, test_size=0.20, random_state=0)\n",
    "\n",
    "fitting(x_train, y_train, knn)\n",
    "ypred = predict(x_test, knn)"
   ]
  },
  {
   "cell_type": "code",
   "execution_count": 14,
   "metadata": {},
   "outputs": [],
   "source": [
    "knn_f1 = f1_score(y_test, ypred, average=\"weighted\")\n",
    "knn_recall = recall_score(y_test, ypred, average=\"weighted\")\n",
    "knn_precision = precision_score(y_test, ypred, average=\"weighted\")\n",
    "result['knn'] = knn_f1, knn_recall, knn_precision"
   ]
  },
  {
   "cell_type": "markdown",
   "metadata": {},
   "source": [
    "### Decision Tree"
   ]
  },
  {
   "cell_type": "code",
   "execution_count": 15,
   "metadata": {},
   "outputs": [],
   "source": [
    "x_train, x_test, y_train, y_test = train_test_split(x, y, test_size=0.20, random_state=0)\n",
    "\n",
    "fitting(x_train, y_train, dtree)\n",
    "ypred = predict(x_test, dtree)"
   ]
  },
  {
   "cell_type": "code",
   "execution_count": 16,
   "metadata": {},
   "outputs": [],
   "source": [
    "dtree_f1 = f1_score(y_test, ypred, average=\"weighted\")\n",
    "dtree_recall = recall_score(y_test, ypred, average=\"weighted\")\n",
    "dtree_precision = precision_score(y_test, ypred, average=\"weighted\")\n",
    "result['dtree'] = dtree_f1, dtree_recall, dtree_precision"
   ]
  },
  {
   "cell_type": "markdown",
   "metadata": {},
   "source": [
    "### Result - DF1"
   ]
  },
  {
   "cell_type": "code",
   "execution_count": 17,
   "metadata": {
    "scrolled": true
   },
   "outputs": [
    {
     "data": {
      "text/html": [
       "<div>\n",
       "<style scoped>\n",
       "    .dataframe tbody tr th:only-of-type {\n",
       "        vertical-align: middle;\n",
       "    }\n",
       "\n",
       "    .dataframe tbody tr th {\n",
       "        vertical-align: top;\n",
       "    }\n",
       "\n",
       "    .dataframe thead th {\n",
       "        text-align: right;\n",
       "    }\n",
       "</style>\n",
       "<table border=\"1\" class=\"dataframe\">\n",
       "  <thead>\n",
       "    <tr style=\"text-align: right;\">\n",
       "      <th></th>\n",
       "      <th>Model</th>\n",
       "      <th>F1_score - Recall - Precision</th>\n",
       "    </tr>\n",
       "  </thead>\n",
       "  <tbody>\n",
       "    <tr>\n",
       "      <th>0</th>\n",
       "      <td>logreg</td>\n",
       "      <td>(0.8991977253696037, 0.9007455731593662, 0.899...</td>\n",
       "    </tr>\n",
       "    <tr>\n",
       "      <th>1</th>\n",
       "      <td>svc</td>\n",
       "      <td>(0.7825518915306116, 0.7968313140726934, 0.821...</td>\n",
       "    </tr>\n",
       "    <tr>\n",
       "      <th>2</th>\n",
       "      <td>sgdc</td>\n",
       "      <td>(0.9054452061019287, 0.9065703634669152, 0.905...</td>\n",
       "    </tr>\n",
       "    <tr>\n",
       "      <th>3</th>\n",
       "      <td>knn</td>\n",
       "      <td>(0.45736459471976015, 0.4666821994408201, 0.52...</td>\n",
       "    </tr>\n",
       "    <tr>\n",
       "      <th>4</th>\n",
       "      <td>dtree</td>\n",
       "      <td>(0.8735854595419213, 0.8734855545200373, 0.874...</td>\n",
       "    </tr>\n",
       "  </tbody>\n",
       "</table>\n",
       "</div>"
      ],
      "text/plain": [
       "    Model                      F1_score - Recall - Precision\n",
       "0  logreg  (0.8991977253696037, 0.9007455731593662, 0.899...\n",
       "1     svc  (0.7825518915306116, 0.7968313140726934, 0.821...\n",
       "2    sgdc  (0.9054452061019287, 0.9065703634669152, 0.905...\n",
       "3     knn  (0.45736459471976015, 0.4666821994408201, 0.52...\n",
       "4   dtree  (0.8735854595419213, 0.8734855545200373, 0.874..."
      ]
     },
     "execution_count": 17,
     "metadata": {},
     "output_type": "execute_result"
    }
   ],
   "source": [
    "liste = []\n",
    "values = []\n",
    "\n",
    "for k, v in result.items():\n",
    "    liste.append(k)\n",
    "    values.append(v)\n",
    "    \n",
    "dfresult = pd.DataFrame(columns=['Model','F1_score - Recall - Precision'])\n",
    "\n",
    "dfresult['Model'] = pd.Series(liste)\n",
    "dfresult['F1_score - Recall - Precision'] = pd.Series(values)\n",
    "\n",
    "dfresult.head()"
   ]
  },
  {
   "cell_type": "markdown",
   "metadata": {},
   "source": [
    "In this case we can see sgdc is better"
   ]
  },
  {
   "cell_type": "markdown",
   "metadata": {},
   "source": [
    "## Introduce pipeline to compare with TFID, StopWorld, N-gram"
   ]
  },
  {
   "cell_type": "code",
   "execution_count": 22,
   "metadata": {},
   "outputs": [],
   "source": [
    "def run_pipes(pipes, splits=10, test_size=0.2, seed=0):  \n",
    "    res = defaultdict(list)\n",
    "    spliter = ShuffleSplit(n_splits=splits, test_size=test_size, random_state=seed)\n",
    "    for idx_train, idx_test in spliter.split(corpus):\n",
    "        for pipe in pipes:\n",
    "            # name of the model\n",
    "            name = \"-\".join([x[0] for x in pipe.steps])\n",
    "            \n",
    "            # extract datasets\n",
    "            X_train = corpus[idx_train]\n",
    "            X_test = corpus[idx_test]\n",
    "            y_train = targets[idx_train]\n",
    "            y_test = targets[idx_test]\n",
    "            \n",
    "            # Learn\n",
    "            start = time()\n",
    "            pipe.fit(X_train, y_train)\n",
    "            fit_time = time() - start\n",
    "            \n",
    "            # predict and save results\n",
    "            y = pipe.predict(X_test)\n",
    "            res[name].append([\n",
    "                fit_time,\n",
    "                f1_score(y_test, y, average=\"weighted\"),\n",
    "                recall_score(y_test, y, average=\"weighted\"),\n",
    "                precision_score(y_test, y, average=\"weighted\")\n",
    "            ])\n",
    "    return res\n",
    "\n",
    "def print_table(res):\n",
    "    # Compute mean and std\n",
    "    final = {}\n",
    "    for model in res:\n",
    "        arr = np.array(res[model])\n",
    "        final[model] = {\n",
    "            \"time\" : arr[:, 0].mean().round(2),\n",
    "            \"f1\": [arr[:,1].mean().round(3), arr[:,1].std().round(3)],\n",
    "            \"recall\": [arr[:,2].mean().round(3), arr[:,1].std().round(3)],\n",
    "            \"precision\": [arr[:,3].mean().round(3), arr[:,1].std().round(3)],}\n",
    "    df = pd.DataFrame.from_dict(final, orient=\"index\").round(3)\n",
    "    return df"
   ]
  },
  {
   "cell_type": "code",
   "execution_count": 23,
   "metadata": {},
   "outputs": [],
   "source": [
    "#import data\n",
    "df = pd.read_csv(\"data/emotion_final.csv\")\n",
    "\n",
    "corpus = np.array(df['Text'])\n",
    "targets = np.array(df['Emotion'])"
   ]
  },
  {
   "cell_type": "markdown",
   "metadata": {},
   "source": [
    "## Logistic Regression"
   ]
  },
  {
   "cell_type": "code",
   "execution_count": 25,
   "metadata": {},
   "outputs": [
    {
     "data": {
      "text/html": [
       "<div>\n",
       "<style scoped>\n",
       "    .dataframe tbody tr th:only-of-type {\n",
       "        vertical-align: middle;\n",
       "    }\n",
       "\n",
       "    .dataframe tbody tr th {\n",
       "        vertical-align: top;\n",
       "    }\n",
       "\n",
       "    .dataframe thead th {\n",
       "        text-align: right;\n",
       "    }\n",
       "</style>\n",
       "<table border=\"1\" class=\"dataframe\">\n",
       "  <thead>\n",
       "    <tr style=\"text-align: right;\">\n",
       "      <th></th>\n",
       "      <th>time</th>\n",
       "      <th>f1</th>\n",
       "      <th>recall</th>\n",
       "      <th>precision</th>\n",
       "    </tr>\n",
       "  </thead>\n",
       "  <tbody>\n",
       "    <tr>\n",
       "      <th>vectSW-loreg</th>\n",
       "      <td>5.13</td>\n",
       "      <td>[0.885, 0.005]</td>\n",
       "      <td>[0.886, 0.005]</td>\n",
       "      <td>[0.885, 0.005]</td>\n",
       "    </tr>\n",
       "    <tr>\n",
       "      <th>vect-loreg</th>\n",
       "      <td>8.00</td>\n",
       "      <td>[0.88, 0.006]</td>\n",
       "      <td>[0.881, 0.006]</td>\n",
       "      <td>[0.88, 0.006]</td>\n",
       "    </tr>\n",
       "  </tbody>\n",
       "</table>\n",
       "</div>"
      ],
      "text/plain": [
       "              time              f1          recall       precision\n",
       "vectSW-loreg  5.13  [0.885, 0.005]  [0.886, 0.005]  [0.885, 0.005]\n",
       "vect-loreg    8.00   [0.88, 0.006]  [0.881, 0.006]   [0.88, 0.006]"
      ]
     },
     "execution_count": 25,
     "metadata": {},
     "output_type": "execute_result"
    }
   ],
   "source": [
    "pipe00 = Pipeline([\n",
    "    ('vectSW', CountVectorizer(stop_words=stopwords)),\n",
    "    ('loreg', LogisticRegression(max_iter=5000)), \n",
    "])\n",
    "pipe001 = Pipeline([\n",
    "    ('vect', CountVectorizer()),\n",
    "    ('loreg', LogisticRegression(max_iter=5000)),\n",
    "])\n",
    "res = run_pipes([pipe00, pipe001])\n",
    "print_table(res)"
   ]
  },
  {
   "cell_type": "code",
   "execution_count": 31,
   "metadata": {},
   "outputs": [
    {
     "data": {
      "text/html": [
       "<div>\n",
       "<style scoped>\n",
       "    .dataframe tbody tr th:only-of-type {\n",
       "        vertical-align: middle;\n",
       "    }\n",
       "\n",
       "    .dataframe tbody tr th {\n",
       "        vertical-align: top;\n",
       "    }\n",
       "\n",
       "    .dataframe thead th {\n",
       "        text-align: right;\n",
       "    }\n",
       "</style>\n",
       "<table border=\"1\" class=\"dataframe\">\n",
       "  <thead>\n",
       "    <tr style=\"text-align: right;\">\n",
       "      <th></th>\n",
       "      <th>time</th>\n",
       "      <th>f1</th>\n",
       "      <th>recall</th>\n",
       "      <th>precision</th>\n",
       "    </tr>\n",
       "  </thead>\n",
       "  <tbody>\n",
       "    <tr>\n",
       "      <th>vectSWNG-loreg</th>\n",
       "      <td>33.36</td>\n",
       "      <td>[0.892, 0.005]</td>\n",
       "      <td>[0.894, 0.005]</td>\n",
       "      <td>[0.893, 0.005]</td>\n",
       "    </tr>\n",
       "  </tbody>\n",
       "</table>\n",
       "</div>"
      ],
      "text/plain": [
       "                 time              f1          recall       precision\n",
       "vectSWNG-loreg  33.36  [0.892, 0.005]  [0.894, 0.005]  [0.893, 0.005]"
      ]
     },
     "execution_count": 31,
     "metadata": {},
     "output_type": "execute_result"
    }
   ],
   "source": [
    "pipe002 = Pipeline([\n",
    "    ('vectSWNG', CountVectorizer(ngram_range=(1,2), stop_words=stopwords)),\n",
    "    ('loreg', LogisticRegression(max_iter=5000)), \n",
    "])\n",
    "res = run_pipes([pipe002])\n",
    "print_table(res)"
   ]
  },
  {
   "cell_type": "code",
   "execution_count": 32,
   "metadata": {},
   "outputs": [
    {
     "data": {
      "text/html": [
       "<div>\n",
       "<style scoped>\n",
       "    .dataframe tbody tr th:only-of-type {\n",
       "        vertical-align: middle;\n",
       "    }\n",
       "\n",
       "    .dataframe tbody tr th {\n",
       "        vertical-align: top;\n",
       "    }\n",
       "\n",
       "    .dataframe thead th {\n",
       "        text-align: right;\n",
       "    }\n",
       "</style>\n",
       "<table border=\"1\" class=\"dataframe\">\n",
       "  <thead>\n",
       "    <tr style=\"text-align: right;\">\n",
       "      <th></th>\n",
       "      <th>time</th>\n",
       "      <th>f1</th>\n",
       "      <th>recall</th>\n",
       "      <th>precision</th>\n",
       "    </tr>\n",
       "  </thead>\n",
       "  <tbody>\n",
       "    <tr>\n",
       "      <th>vectSWNG-idf-loreg</th>\n",
       "      <td>33.94</td>\n",
       "      <td>[0.843, 0.003]</td>\n",
       "      <td>[0.85, 0.003]</td>\n",
       "      <td>[0.856, 0.003]</td>\n",
       "    </tr>\n",
       "  </tbody>\n",
       "</table>\n",
       "</div>"
      ],
      "text/plain": [
       "                     time              f1         recall       precision\n",
       "vectSWNG-idf-loreg  33.94  [0.843, 0.003]  [0.85, 0.003]  [0.856, 0.003]"
      ]
     },
     "execution_count": 32,
     "metadata": {},
     "output_type": "execute_result"
    }
   ],
   "source": [
    "pipe003 = Pipeline([\n",
    "    ('vectSWNG', CountVectorizer(ngram_range=(1,2), stop_words=stopwords)),\n",
    "    ('idf', TfidfTransformer()),\n",
    "    ('loreg', LogisticRegression(max_iter=5000)),\n",
    "])\n",
    "res = run_pipes([pipe003])\n",
    "print_table(res)"
   ]
  },
  {
   "cell_type": "markdown",
   "metadata": {},
   "source": [
    "__Logistic regression__ \n",
    "\n",
    "The better pipeline is 002, with (__stop_words, ngram__)"
   ]
  },
  {
   "cell_type": "markdown",
   "metadata": {},
   "source": [
    "## SVC"
   ]
  },
  {
   "cell_type": "code",
   "execution_count": 33,
   "metadata": {},
   "outputs": [
    {
     "name": "stderr",
     "output_type": "stream",
     "text": [
      "/home/randon/anaconda3/envs/devia/lib/python3.8/site-packages/sklearn/svm/_base.py:246: ConvergenceWarning: Solver terminated early (max_iter=5000).  Consider pre-processing your data with StandardScaler or MinMaxScaler.\n",
      "  warnings.warn('Solver terminated early (max_iter=%i).'\n"
     ]
    },
    {
     "data": {
      "text/html": [
       "<div>\n",
       "<style scoped>\n",
       "    .dataframe tbody tr th:only-of-type {\n",
       "        vertical-align: middle;\n",
       "    }\n",
       "\n",
       "    .dataframe tbody tr th {\n",
       "        vertical-align: top;\n",
       "    }\n",
       "\n",
       "    .dataframe thead th {\n",
       "        text-align: right;\n",
       "    }\n",
       "</style>\n",
       "<table border=\"1\" class=\"dataframe\">\n",
       "  <thead>\n",
       "    <tr style=\"text-align: right;\">\n",
       "      <th></th>\n",
       "      <th>time</th>\n",
       "      <th>f1</th>\n",
       "      <th>recall</th>\n",
       "      <th>precision</th>\n",
       "    </tr>\n",
       "  </thead>\n",
       "  <tbody>\n",
       "    <tr>\n",
       "      <th>vectSW-svc</th>\n",
       "      <td>51.79</td>\n",
       "      <td>[0.824, 0.006]</td>\n",
       "      <td>[0.831, 0.006]</td>\n",
       "      <td>[0.838, 0.006]</td>\n",
       "    </tr>\n",
       "    <tr>\n",
       "      <th>vect-svc</th>\n",
       "      <td>86.73</td>\n",
       "      <td>[0.77, 0.006]</td>\n",
       "      <td>[0.783, 0.006]</td>\n",
       "      <td>[0.803, 0.006]</td>\n",
       "    </tr>\n",
       "  </tbody>\n",
       "</table>\n",
       "</div>"
      ],
      "text/plain": [
       "             time              f1          recall       precision\n",
       "vectSW-svc  51.79  [0.824, 0.006]  [0.831, 0.006]  [0.838, 0.006]\n",
       "vect-svc    86.73   [0.77, 0.006]  [0.783, 0.006]  [0.803, 0.006]"
      ]
     },
     "execution_count": 33,
     "metadata": {},
     "output_type": "execute_result"
    }
   ],
   "source": [
    "pipe01 = Pipeline([\n",
    "    ('vectSW', CountVectorizer(stop_words=stopwords)),\n",
    "    ('svc', SVC(max_iter=5000, tol=1e-4)),\n",
    "])\n",
    "pipe011 = Pipeline([\n",
    "    ('vect', CountVectorizer()),\n",
    "    ('svc', SVC(max_iter=5000, tol=1e-4)),\n",
    "])\n",
    "res = run_pipes([pipe01, pipe011])\n",
    "print_table(res)"
   ]
  },
  {
   "cell_type": "code",
   "execution_count": 34,
   "metadata": {},
   "outputs": [
    {
     "name": "stderr",
     "output_type": "stream",
     "text": [
      "/home/randon/anaconda3/envs/devia/lib/python3.8/site-packages/sklearn/svm/_base.py:246: ConvergenceWarning: Solver terminated early (max_iter=5000).  Consider pre-processing your data with StandardScaler or MinMaxScaler.\n",
      "  warnings.warn('Solver terminated early (max_iter=%i).'\n"
     ]
    },
    {
     "data": {
      "text/html": [
       "<div>\n",
       "<style scoped>\n",
       "    .dataframe tbody tr th:only-of-type {\n",
       "        vertical-align: middle;\n",
       "    }\n",
       "\n",
       "    .dataframe tbody tr th {\n",
       "        vertical-align: top;\n",
       "    }\n",
       "\n",
       "    .dataframe thead th {\n",
       "        text-align: right;\n",
       "    }\n",
       "</style>\n",
       "<table border=\"1\" class=\"dataframe\">\n",
       "  <thead>\n",
       "    <tr style=\"text-align: right;\">\n",
       "      <th></th>\n",
       "      <th>time</th>\n",
       "      <th>f1</th>\n",
       "      <th>recall</th>\n",
       "      <th>precision</th>\n",
       "    </tr>\n",
       "  </thead>\n",
       "  <tbody>\n",
       "    <tr>\n",
       "      <th>vectSWNG-svc</th>\n",
       "      <td>75.04</td>\n",
       "      <td>[0.835, 0.005]</td>\n",
       "      <td>[0.843, 0.005]</td>\n",
       "      <td>[0.849, 0.005]</td>\n",
       "    </tr>\n",
       "  </tbody>\n",
       "</table>\n",
       "</div>"
      ],
      "text/plain": [
       "               time              f1          recall       precision\n",
       "vectSWNG-svc  75.04  [0.835, 0.005]  [0.843, 0.005]  [0.849, 0.005]"
      ]
     },
     "execution_count": 34,
     "metadata": {},
     "output_type": "execute_result"
    }
   ],
   "source": [
    "pipe012 = Pipeline([\n",
    "    ('vectSWNG', CountVectorizer(ngram_range=(1,2), stop_words=stopwords)),\n",
    "    ('svc', SVC(max_iter=5000, tol=1e-4)),\n",
    "])\n",
    "res = run_pipes([pipe012])\n",
    "print_table(res)"
   ]
  },
  {
   "cell_type": "code",
   "execution_count": 35,
   "metadata": {},
   "outputs": [
    {
     "name": "stderr",
     "output_type": "stream",
     "text": [
      "/home/randon/anaconda3/envs/devia/lib/python3.8/site-packages/sklearn/svm/_base.py:246: ConvergenceWarning: Solver terminated early (max_iter=5000).  Consider pre-processing your data with StandardScaler or MinMaxScaler.\n",
      "  warnings.warn('Solver terminated early (max_iter=%i).'\n"
     ]
    },
    {
     "data": {
      "text/html": [
       "<div>\n",
       "<style scoped>\n",
       "    .dataframe tbody tr th:only-of-type {\n",
       "        vertical-align: middle;\n",
       "    }\n",
       "\n",
       "    .dataframe tbody tr th {\n",
       "        vertical-align: top;\n",
       "    }\n",
       "\n",
       "    .dataframe thead th {\n",
       "        text-align: right;\n",
       "    }\n",
       "</style>\n",
       "<table border=\"1\" class=\"dataframe\">\n",
       "  <thead>\n",
       "    <tr style=\"text-align: right;\">\n",
       "      <th></th>\n",
       "      <th>time</th>\n",
       "      <th>f1</th>\n",
       "      <th>recall</th>\n",
       "      <th>precision</th>\n",
       "    </tr>\n",
       "  </thead>\n",
       "  <tbody>\n",
       "    <tr>\n",
       "      <th>vectSWNG-idf-svc</th>\n",
       "      <td>49.45</td>\n",
       "      <td>[0.849, 0.005]</td>\n",
       "      <td>[0.854, 0.005]</td>\n",
       "      <td>[0.857, 0.005]</td>\n",
       "    </tr>\n",
       "  </tbody>\n",
       "</table>\n",
       "</div>"
      ],
      "text/plain": [
       "                   time              f1          recall       precision\n",
       "vectSWNG-idf-svc  49.45  [0.849, 0.005]  [0.854, 0.005]  [0.857, 0.005]"
      ]
     },
     "execution_count": 35,
     "metadata": {},
     "output_type": "execute_result"
    }
   ],
   "source": [
    "pipe013 = Pipeline([\n",
    "    ('vectSWNG', CountVectorizer(stop_words=stopwords)),\n",
    "    ('idf', TfidfTransformer()),\n",
    "    ('svc', SVC(max_iter=5000, tol=1e-4)),\n",
    "])\n",
    "res = run_pipes([pipe013])\n",
    "print_table(res)"
   ]
  },
  {
   "cell_type": "markdown",
   "metadata": {},
   "source": [
    "__SVC__ \n",
    "\n",
    "The better pipeline is 013, with (__stop_words, ngram, IDF__)"
   ]
  },
  {
   "cell_type": "markdown",
   "metadata": {},
   "source": [
    "## SGD Classifier"
   ]
  },
  {
   "cell_type": "code",
   "execution_count": 37,
   "metadata": {},
   "outputs": [
    {
     "data": {
      "text/html": [
       "<div>\n",
       "<style scoped>\n",
       "    .dataframe tbody tr th:only-of-type {\n",
       "        vertical-align: middle;\n",
       "    }\n",
       "\n",
       "    .dataframe tbody tr th {\n",
       "        vertical-align: top;\n",
       "    }\n",
       "\n",
       "    .dataframe thead th {\n",
       "        text-align: right;\n",
       "    }\n",
       "</style>\n",
       "<table border=\"1\" class=\"dataframe\">\n",
       "  <thead>\n",
       "    <tr style=\"text-align: right;\">\n",
       "      <th></th>\n",
       "      <th>time</th>\n",
       "      <th>f1</th>\n",
       "      <th>recall</th>\n",
       "      <th>precision</th>\n",
       "    </tr>\n",
       "  </thead>\n",
       "  <tbody>\n",
       "    <tr>\n",
       "      <th>vectSW-sgd</th>\n",
       "      <td>0.79</td>\n",
       "      <td>[0.888, 0.005]</td>\n",
       "      <td>[0.889, 0.005]</td>\n",
       "      <td>[0.888, 0.005]</td>\n",
       "    </tr>\n",
       "    <tr>\n",
       "      <th>vect-sgd</th>\n",
       "      <td>1.20</td>\n",
       "      <td>[0.886, 0.005]</td>\n",
       "      <td>[0.887, 0.005]</td>\n",
       "      <td>[0.886, 0.005]</td>\n",
       "    </tr>\n",
       "  </tbody>\n",
       "</table>\n",
       "</div>"
      ],
      "text/plain": [
       "            time              f1          recall       precision\n",
       "vectSW-sgd  0.79  [0.888, 0.005]  [0.889, 0.005]  [0.888, 0.005]\n",
       "vect-sgd    1.20  [0.886, 0.005]  [0.887, 0.005]  [0.886, 0.005]"
      ]
     },
     "execution_count": 37,
     "metadata": {},
     "output_type": "execute_result"
    }
   ],
   "source": [
    "pipe02 = Pipeline([\n",
    "    ('vectSW', CountVectorizer(stop_words=stopwords)),\n",
    "    ('sgd', SGDClassifier(max_iter=5000, tol=1e-4)),\n",
    "])\n",
    "pipe021 = Pipeline([\n",
    "    ('vect', CountVectorizer()),\n",
    "    ('sgd', SGDClassifier(max_iter=5000, tol=1e-4)),\n",
    "])\n",
    "res = run_pipes([pipe02, pipe021])\n",
    "print_table(res)"
   ]
  },
  {
   "cell_type": "code",
   "execution_count": 38,
   "metadata": {},
   "outputs": [
    {
     "data": {
      "text/html": [
       "<div>\n",
       "<style scoped>\n",
       "    .dataframe tbody tr th:only-of-type {\n",
       "        vertical-align: middle;\n",
       "    }\n",
       "\n",
       "    .dataframe tbody tr th {\n",
       "        vertical-align: top;\n",
       "    }\n",
       "\n",
       "    .dataframe thead th {\n",
       "        text-align: right;\n",
       "    }\n",
       "</style>\n",
       "<table border=\"1\" class=\"dataframe\">\n",
       "  <thead>\n",
       "    <tr style=\"text-align: right;\">\n",
       "      <th></th>\n",
       "      <th>time</th>\n",
       "      <th>f1</th>\n",
       "      <th>recall</th>\n",
       "      <th>precision</th>\n",
       "    </tr>\n",
       "  </thead>\n",
       "  <tbody>\n",
       "    <tr>\n",
       "      <th>vectSWNG-sgd</th>\n",
       "      <td>1.68</td>\n",
       "      <td>[0.9, 0.004]</td>\n",
       "      <td>[0.9, 0.004]</td>\n",
       "      <td>[0.9, 0.004]</td>\n",
       "    </tr>\n",
       "  </tbody>\n",
       "</table>\n",
       "</div>"
      ],
      "text/plain": [
       "              time            f1        recall     precision\n",
       "vectSWNG-sgd  1.68  [0.9, 0.004]  [0.9, 0.004]  [0.9, 0.004]"
      ]
     },
     "execution_count": 38,
     "metadata": {},
     "output_type": "execute_result"
    }
   ],
   "source": [
    "pipe022 = Pipeline([\n",
    "    ('vectSWNG', CountVectorizer(ngram_range=(1,2), stop_words=stopwords)),\n",
    "    ('sgd', SGDClassifier(max_iter=5000, tol=1e-4)),\n",
    "])\n",
    "res = run_pipes([pipe022])\n",
    "print_table(res)"
   ]
  },
  {
   "cell_type": "code",
   "execution_count": 39,
   "metadata": {},
   "outputs": [
    {
     "data": {
      "text/html": [
       "<div>\n",
       "<style scoped>\n",
       "    .dataframe tbody tr th:only-of-type {\n",
       "        vertical-align: middle;\n",
       "    }\n",
       "\n",
       "    .dataframe tbody tr th {\n",
       "        vertical-align: top;\n",
       "    }\n",
       "\n",
       "    .dataframe thead th {\n",
       "        text-align: right;\n",
       "    }\n",
       "</style>\n",
       "<table border=\"1\" class=\"dataframe\">\n",
       "  <thead>\n",
       "    <tr style=\"text-align: right;\">\n",
       "      <th></th>\n",
       "      <th>time</th>\n",
       "      <th>f1</th>\n",
       "      <th>recall</th>\n",
       "      <th>precision</th>\n",
       "    </tr>\n",
       "  </thead>\n",
       "  <tbody>\n",
       "    <tr>\n",
       "      <th>vectSWNG-idf-sgd</th>\n",
       "      <td>1.92</td>\n",
       "      <td>[0.897, 0.004]</td>\n",
       "      <td>[0.898, 0.004]</td>\n",
       "      <td>[0.898, 0.004]</td>\n",
       "    </tr>\n",
       "  </tbody>\n",
       "</table>\n",
       "</div>"
      ],
      "text/plain": [
       "                  time              f1          recall       precision\n",
       "vectSWNG-idf-sgd  1.92  [0.897, 0.004]  [0.898, 0.004]  [0.898, 0.004]"
      ]
     },
     "execution_count": 39,
     "metadata": {},
     "output_type": "execute_result"
    }
   ],
   "source": [
    "pipe023 = Pipeline([\n",
    "    ('vectSWNG', CountVectorizer(ngram_range=(1,2), stop_words=stopwords)),\n",
    "    ('idf', TfidfTransformer()),\n",
    "    ('sgd', SGDClassifier(max_iter=5000, tol=1e-4)),\n",
    "])\n",
    "res = run_pipes([pipe023])\n",
    "print_table(res)"
   ]
  },
  {
   "cell_type": "markdown",
   "metadata": {},
   "source": [
    "__SGD__ \n",
    "\n",
    "The better pipeline is 022, with (__stop_words, ngram__)"
   ]
  },
  {
   "cell_type": "markdown",
   "metadata": {},
   "source": [
    "## KNN"
   ]
  },
  {
   "cell_type": "code",
   "execution_count": 46,
   "metadata": {},
   "outputs": [
    {
     "data": {
      "text/html": [
       "<div>\n",
       "<style scoped>\n",
       "    .dataframe tbody tr th:only-of-type {\n",
       "        vertical-align: middle;\n",
       "    }\n",
       "\n",
       "    .dataframe tbody tr th {\n",
       "        vertical-align: top;\n",
       "    }\n",
       "\n",
       "    .dataframe thead th {\n",
       "        text-align: right;\n",
       "    }\n",
       "</style>\n",
       "<table border=\"1\" class=\"dataframe\">\n",
       "  <thead>\n",
       "    <tr style=\"text-align: right;\">\n",
       "      <th></th>\n",
       "      <th>time</th>\n",
       "      <th>f1</th>\n",
       "      <th>recall</th>\n",
       "      <th>precision</th>\n",
       "    </tr>\n",
       "  </thead>\n",
       "  <tbody>\n",
       "    <tr>\n",
       "      <th>vectSW-knn</th>\n",
       "      <td>0.35</td>\n",
       "      <td>[0.551, 0.008]</td>\n",
       "      <td>[0.571, 0.008]</td>\n",
       "      <td>[0.583, 0.008]</td>\n",
       "    </tr>\n",
       "    <tr>\n",
       "      <th>vect-knn</th>\n",
       "      <td>0.39</td>\n",
       "      <td>[0.387, 0.005]</td>\n",
       "      <td>[0.415, 0.005]</td>\n",
       "      <td>[0.398, 0.005]</td>\n",
       "    </tr>\n",
       "  </tbody>\n",
       "</table>\n",
       "</div>"
      ],
      "text/plain": [
       "            time              f1          recall       precision\n",
       "vectSW-knn  0.35  [0.551, 0.008]  [0.571, 0.008]  [0.583, 0.008]\n",
       "vect-knn    0.39  [0.387, 0.005]  [0.415, 0.005]  [0.398, 0.005]"
      ]
     },
     "execution_count": 46,
     "metadata": {},
     "output_type": "execute_result"
    }
   ],
   "source": [
    "pipe03 = Pipeline([\n",
    "    ('vectSW', CountVectorizer(stop_words=stopwords)),\n",
    "    ('knn', KNeighborsClassifier(n_neighbors=10)),\n",
    "])\n",
    "pipe031 = Pipeline([\n",
    "    ('vect', CountVectorizer()),\n",
    "    ('knn', KNeighborsClassifier(n_neighbors=10)),\n",
    "])\n",
    "res = run_pipes([pipe03, pipe031])\n",
    "print_table(res)"
   ]
  },
  {
   "cell_type": "code",
   "execution_count": 47,
   "metadata": {},
   "outputs": [
    {
     "data": {
      "text/html": [
       "<div>\n",
       "<style scoped>\n",
       "    .dataframe tbody tr th:only-of-type {\n",
       "        vertical-align: middle;\n",
       "    }\n",
       "\n",
       "    .dataframe tbody tr th {\n",
       "        vertical-align: top;\n",
       "    }\n",
       "\n",
       "    .dataframe thead th {\n",
       "        text-align: right;\n",
       "    }\n",
       "</style>\n",
       "<table border=\"1\" class=\"dataframe\">\n",
       "  <thead>\n",
       "    <tr style=\"text-align: right;\">\n",
       "      <th></th>\n",
       "      <th>time</th>\n",
       "      <th>f1</th>\n",
       "      <th>recall</th>\n",
       "      <th>precision</th>\n",
       "    </tr>\n",
       "  </thead>\n",
       "  <tbody>\n",
       "    <tr>\n",
       "      <th>vectSWNG-knn</th>\n",
       "      <td>0.98</td>\n",
       "      <td>[0.467, 0.009]</td>\n",
       "      <td>[0.478, 0.009]</td>\n",
       "      <td>[0.537, 0.009]</td>\n",
       "    </tr>\n",
       "  </tbody>\n",
       "</table>\n",
       "</div>"
      ],
      "text/plain": [
       "              time              f1          recall       precision\n",
       "vectSWNG-knn  0.98  [0.467, 0.009]  [0.478, 0.009]  [0.537, 0.009]"
      ]
     },
     "execution_count": 47,
     "metadata": {},
     "output_type": "execute_result"
    }
   ],
   "source": [
    "pipe032 = Pipeline([\n",
    "    ('vectSWNG', CountVectorizer(ngram_range=(1,2), stop_words=stopwords)),\n",
    "    ('knn', KNeighborsClassifier(n_neighbors=10)),\n",
    "])\n",
    "res = run_pipes([pipe032])\n",
    "print_table(res)"
   ]
  },
  {
   "cell_type": "code",
   "execution_count": 48,
   "metadata": {},
   "outputs": [
    {
     "data": {
      "text/html": [
       "<div>\n",
       "<style scoped>\n",
       "    .dataframe tbody tr th:only-of-type {\n",
       "        vertical-align: middle;\n",
       "    }\n",
       "\n",
       "    .dataframe tbody tr th {\n",
       "        vertical-align: top;\n",
       "    }\n",
       "\n",
       "    .dataframe thead th {\n",
       "        text-align: right;\n",
       "    }\n",
       "</style>\n",
       "<table border=\"1\" class=\"dataframe\">\n",
       "  <thead>\n",
       "    <tr style=\"text-align: right;\">\n",
       "      <th></th>\n",
       "      <th>time</th>\n",
       "      <th>f1</th>\n",
       "      <th>recall</th>\n",
       "      <th>precision</th>\n",
       "    </tr>\n",
       "  </thead>\n",
       "  <tbody>\n",
       "    <tr>\n",
       "      <th>vectSWNG-idf-knn</th>\n",
       "      <td>0.97</td>\n",
       "      <td>[0.757, 0.008]</td>\n",
       "      <td>[0.763, 0.008]</td>\n",
       "      <td>[0.773, 0.008]</td>\n",
       "    </tr>\n",
       "  </tbody>\n",
       "</table>\n",
       "</div>"
      ],
      "text/plain": [
       "                  time              f1          recall       precision\n",
       "vectSWNG-idf-knn  0.97  [0.757, 0.008]  [0.763, 0.008]  [0.773, 0.008]"
      ]
     },
     "execution_count": 48,
     "metadata": {},
     "output_type": "execute_result"
    }
   ],
   "source": [
    "pipe033 = Pipeline([\n",
    "    ('vectSWNG', CountVectorizer(ngram_range=(1,2), stop_words=stopwords)),\n",
    "    ('idf', TfidfTransformer()),\n",
    "    ('knn', KNeighborsClassifier(n_neighbors=10)),\n",
    "])\n",
    "res = run_pipes([pipe033])\n",
    "print_table(res)"
   ]
  },
  {
   "cell_type": "markdown",
   "metadata": {},
   "source": [
    "__KNN__ \n",
    "\n",
    "The better pipeline is 033, with (__stop_words, ngram, IDF__)"
   ]
  },
  {
   "cell_type": "markdown",
   "metadata": {},
   "source": [
    "## DTREE"
   ]
  },
  {
   "cell_type": "code",
   "execution_count": 49,
   "metadata": {},
   "outputs": [
    {
     "data": {
      "text/html": [
       "<div>\n",
       "<style scoped>\n",
       "    .dataframe tbody tr th:only-of-type {\n",
       "        vertical-align: middle;\n",
       "    }\n",
       "\n",
       "    .dataframe tbody tr th {\n",
       "        vertical-align: top;\n",
       "    }\n",
       "\n",
       "    .dataframe thead th {\n",
       "        text-align: right;\n",
       "    }\n",
       "</style>\n",
       "<table border=\"1\" class=\"dataframe\">\n",
       "  <thead>\n",
       "    <tr style=\"text-align: right;\">\n",
       "      <th></th>\n",
       "      <th>time</th>\n",
       "      <th>f1</th>\n",
       "      <th>recall</th>\n",
       "      <th>precision</th>\n",
       "    </tr>\n",
       "  </thead>\n",
       "  <tbody>\n",
       "    <tr>\n",
       "      <th>vectSW-dtree</th>\n",
       "      <td>3.09</td>\n",
       "      <td>[0.863, 0.002]</td>\n",
       "      <td>[0.863, 0.002]</td>\n",
       "      <td>[0.865, 0.002]</td>\n",
       "    </tr>\n",
       "    <tr>\n",
       "      <th>vect-dtree</th>\n",
       "      <td>3.94</td>\n",
       "      <td>[0.849, 0.004]</td>\n",
       "      <td>[0.849, 0.004]</td>\n",
       "      <td>[0.85, 0.004]</td>\n",
       "    </tr>\n",
       "  </tbody>\n",
       "</table>\n",
       "</div>"
      ],
      "text/plain": [
       "              time              f1          recall       precision\n",
       "vectSW-dtree  3.09  [0.863, 0.002]  [0.863, 0.002]  [0.865, 0.002]\n",
       "vect-dtree    3.94  [0.849, 0.004]  [0.849, 0.004]   [0.85, 0.004]"
      ]
     },
     "execution_count": 49,
     "metadata": {},
     "output_type": "execute_result"
    }
   ],
   "source": [
    "pipe04 = Pipeline([\n",
    "    ('vectSW', CountVectorizer(stop_words=stopwords)),\n",
    "    ('dtree', DecisionTreeClassifier(random_state=0)),\n",
    "])\n",
    "pipe041 = Pipeline([\n",
    "    ('vect', CountVectorizer()),\n",
    "    ('dtree', DecisionTreeClassifier(random_state=0)),\n",
    "])\n",
    "res = run_pipes([pipe04, pipe041])\n",
    "print_table(res)"
   ]
  },
  {
   "cell_type": "code",
   "execution_count": 51,
   "metadata": {},
   "outputs": [
    {
     "data": {
      "text/html": [
       "<div>\n",
       "<style scoped>\n",
       "    .dataframe tbody tr th:only-of-type {\n",
       "        vertical-align: middle;\n",
       "    }\n",
       "\n",
       "    .dataframe tbody tr th {\n",
       "        vertical-align: top;\n",
       "    }\n",
       "\n",
       "    .dataframe thead th {\n",
       "        text-align: right;\n",
       "    }\n",
       "</style>\n",
       "<table border=\"1\" class=\"dataframe\">\n",
       "  <thead>\n",
       "    <tr style=\"text-align: right;\">\n",
       "      <th></th>\n",
       "      <th>time</th>\n",
       "      <th>f1</th>\n",
       "      <th>recall</th>\n",
       "      <th>precision</th>\n",
       "    </tr>\n",
       "  </thead>\n",
       "  <tbody>\n",
       "    <tr>\n",
       "      <th>vectSWNG-dtree</th>\n",
       "      <td>14.45</td>\n",
       "      <td>[0.867, 0.002]</td>\n",
       "      <td>[0.867, 0.002]</td>\n",
       "      <td>[0.869, 0.002]</td>\n",
       "    </tr>\n",
       "  </tbody>\n",
       "</table>\n",
       "</div>"
      ],
      "text/plain": [
       "                 time              f1          recall       precision\n",
       "vectSWNG-dtree  14.45  [0.867, 0.002]  [0.867, 0.002]  [0.869, 0.002]"
      ]
     },
     "execution_count": 51,
     "metadata": {},
     "output_type": "execute_result"
    }
   ],
   "source": [
    "pipe042 = Pipeline([\n",
    "    ('vectSWNG', CountVectorizer(ngram_range=(1,2), stop_words=stopwords)),\n",
    "    ('dtree', DecisionTreeClassifier(random_state=0)),\n",
    "])\n",
    "\n",
    "res = run_pipes([pipe042])\n",
    "print_table(res)"
   ]
  },
  {
   "cell_type": "code",
   "execution_count": 52,
   "metadata": {},
   "outputs": [
    {
     "data": {
      "text/html": [
       "<div>\n",
       "<style scoped>\n",
       "    .dataframe tbody tr th:only-of-type {\n",
       "        vertical-align: middle;\n",
       "    }\n",
       "\n",
       "    .dataframe tbody tr th {\n",
       "        vertical-align: top;\n",
       "    }\n",
       "\n",
       "    .dataframe thead th {\n",
       "        text-align: right;\n",
       "    }\n",
       "</style>\n",
       "<table border=\"1\" class=\"dataframe\">\n",
       "  <thead>\n",
       "    <tr style=\"text-align: right;\">\n",
       "      <th></th>\n",
       "      <th>time</th>\n",
       "      <th>f1</th>\n",
       "      <th>recall</th>\n",
       "      <th>precision</th>\n",
       "    </tr>\n",
       "  </thead>\n",
       "  <tbody>\n",
       "    <tr>\n",
       "      <th>vectSWNG-idf-dtree</th>\n",
       "      <td>16.31</td>\n",
       "      <td>[0.858, 0.005]</td>\n",
       "      <td>[0.858, 0.005]</td>\n",
       "      <td>[0.859, 0.005]</td>\n",
       "    </tr>\n",
       "  </tbody>\n",
       "</table>\n",
       "</div>"
      ],
      "text/plain": [
       "                     time              f1          recall       precision\n",
       "vectSWNG-idf-dtree  16.31  [0.858, 0.005]  [0.858, 0.005]  [0.859, 0.005]"
      ]
     },
     "execution_count": 52,
     "metadata": {},
     "output_type": "execute_result"
    }
   ],
   "source": [
    "pipe043 = Pipeline([\n",
    "    ('vectSWNG', CountVectorizer(ngram_range=(1,2), stop_words=stopwords)),\n",
    "    ('idf', TfidfTransformer()),\n",
    "    ('dtree', DecisionTreeClassifier(random_state=0)),\n",
    "])\n",
    "\n",
    "res = run_pipes([pipe043])\n",
    "print_table(res)"
   ]
  },
  {
   "cell_type": "markdown",
   "metadata": {},
   "source": [
    "__DecisionTree__ \n",
    "\n",
    "The better pipeline is 042, with (__stop_words, ngram__)"
   ]
  },
  {
   "cell_type": "markdown",
   "metadata": {},
   "source": [
    "## Compare models"
   ]
  },
  {
   "cell_type": "code",
   "execution_count": 54,
   "metadata": {},
   "outputs": [
    {
     "name": "stderr",
     "output_type": "stream",
     "text": [
      "/home/randon/anaconda3/envs/devia/lib/python3.8/site-packages/sklearn/svm/_base.py:246: ConvergenceWarning: Solver terminated early (max_iter=5000).  Consider pre-processing your data with StandardScaler or MinMaxScaler.\n",
      "  warnings.warn('Solver terminated early (max_iter=%i).'\n",
      "/home/randon/anaconda3/envs/devia/lib/python3.8/site-packages/sklearn/svm/_base.py:246: ConvergenceWarning: Solver terminated early (max_iter=5000).  Consider pre-processing your data with StandardScaler or MinMaxScaler.\n",
      "  warnings.warn('Solver terminated early (max_iter=%i).'\n",
      "/home/randon/anaconda3/envs/devia/lib/python3.8/site-packages/sklearn/svm/_base.py:246: ConvergenceWarning: Solver terminated early (max_iter=5000).  Consider pre-processing your data with StandardScaler or MinMaxScaler.\n",
      "  warnings.warn('Solver terminated early (max_iter=%i).'\n",
      "/home/randon/anaconda3/envs/devia/lib/python3.8/site-packages/sklearn/svm/_base.py:246: ConvergenceWarning: Solver terminated early (max_iter=5000).  Consider pre-processing your data with StandardScaler or MinMaxScaler.\n",
      "  warnings.warn('Solver terminated early (max_iter=%i).'\n",
      "/home/randon/anaconda3/envs/devia/lib/python3.8/site-packages/sklearn/svm/_base.py:246: ConvergenceWarning: Solver terminated early (max_iter=5000).  Consider pre-processing your data with StandardScaler or MinMaxScaler.\n",
      "  warnings.warn('Solver terminated early (max_iter=%i).'\n",
      "/home/randon/anaconda3/envs/devia/lib/python3.8/site-packages/sklearn/svm/_base.py:246: ConvergenceWarning: Solver terminated early (max_iter=5000).  Consider pre-processing your data with StandardScaler or MinMaxScaler.\n",
      "  warnings.warn('Solver terminated early (max_iter=%i).'\n",
      "/home/randon/anaconda3/envs/devia/lib/python3.8/site-packages/sklearn/svm/_base.py:246: ConvergenceWarning: Solver terminated early (max_iter=5000).  Consider pre-processing your data with StandardScaler or MinMaxScaler.\n",
      "  warnings.warn('Solver terminated early (max_iter=%i).'\n",
      "/home/randon/anaconda3/envs/devia/lib/python3.8/site-packages/sklearn/svm/_base.py:246: ConvergenceWarning: Solver terminated early (max_iter=5000).  Consider pre-processing your data with StandardScaler or MinMaxScaler.\n",
      "  warnings.warn('Solver terminated early (max_iter=%i).'\n",
      "/home/randon/anaconda3/envs/devia/lib/python3.8/site-packages/sklearn/svm/_base.py:246: ConvergenceWarning: Solver terminated early (max_iter=5000).  Consider pre-processing your data with StandardScaler or MinMaxScaler.\n",
      "  warnings.warn('Solver terminated early (max_iter=%i).'\n",
      "/home/randon/anaconda3/envs/devia/lib/python3.8/site-packages/sklearn/svm/_base.py:246: ConvergenceWarning: Solver terminated early (max_iter=5000).  Consider pre-processing your data with StandardScaler or MinMaxScaler.\n",
      "  warnings.warn('Solver terminated early (max_iter=%i).'\n"
     ]
    },
    {
     "data": {
      "text/html": [
       "<div>\n",
       "<style scoped>\n",
       "    .dataframe tbody tr th:only-of-type {\n",
       "        vertical-align: middle;\n",
       "    }\n",
       "\n",
       "    .dataframe tbody tr th {\n",
       "        vertical-align: top;\n",
       "    }\n",
       "\n",
       "    .dataframe thead th {\n",
       "        text-align: right;\n",
       "    }\n",
       "</style>\n",
       "<table border=\"1\" class=\"dataframe\">\n",
       "  <thead>\n",
       "    <tr style=\"text-align: right;\">\n",
       "      <th></th>\n",
       "      <th>time</th>\n",
       "      <th>f1</th>\n",
       "      <th>recall</th>\n",
       "      <th>precision</th>\n",
       "    </tr>\n",
       "  </thead>\n",
       "  <tbody>\n",
       "    <tr>\n",
       "      <th>vectSWNG-loreg</th>\n",
       "      <td>22.40</td>\n",
       "      <td>[0.892, 0.005]</td>\n",
       "      <td>[0.894, 0.005]</td>\n",
       "      <td>[0.893, 0.005]</td>\n",
       "    </tr>\n",
       "    <tr>\n",
       "      <th>vectSWNG-idf-svc</th>\n",
       "      <td>54.08</td>\n",
       "      <td>[0.849, 0.005]</td>\n",
       "      <td>[0.854, 0.005]</td>\n",
       "      <td>[0.857, 0.005]</td>\n",
       "    </tr>\n",
       "    <tr>\n",
       "      <th>vectSWNG-sgd</th>\n",
       "      <td>1.51</td>\n",
       "      <td>[0.9, 0.005]</td>\n",
       "      <td>[0.901, 0.005]</td>\n",
       "      <td>[0.9, 0.005]</td>\n",
       "    </tr>\n",
       "    <tr>\n",
       "      <th>vectSWNG-idf-knn</th>\n",
       "      <td>0.86</td>\n",
       "      <td>[0.757, 0.008]</td>\n",
       "      <td>[0.763, 0.008]</td>\n",
       "      <td>[0.773, 0.008]</td>\n",
       "    </tr>\n",
       "    <tr>\n",
       "      <th>vectSWNG-dtree</th>\n",
       "      <td>12.13</td>\n",
       "      <td>[0.867, 0.002]</td>\n",
       "      <td>[0.867, 0.002]</td>\n",
       "      <td>[0.869, 0.002]</td>\n",
       "    </tr>\n",
       "  </tbody>\n",
       "</table>\n",
       "</div>"
      ],
      "text/plain": [
       "                   time              f1          recall       precision\n",
       "vectSWNG-loreg    22.40  [0.892, 0.005]  [0.894, 0.005]  [0.893, 0.005]\n",
       "vectSWNG-idf-svc  54.08  [0.849, 0.005]  [0.854, 0.005]  [0.857, 0.005]\n",
       "vectSWNG-sgd       1.51    [0.9, 0.005]  [0.901, 0.005]    [0.9, 0.005]\n",
       "vectSWNG-idf-knn   0.86  [0.757, 0.008]  [0.763, 0.008]  [0.773, 0.008]\n",
       "vectSWNG-dtree    12.13  [0.867, 0.002]  [0.867, 0.002]  [0.869, 0.002]"
      ]
     },
     "execution_count": 54,
     "metadata": {},
     "output_type": "execute_result"
    }
   ],
   "source": [
    "#run all best pipe from each model\n",
    "\n",
    "res = run_pipes([pipe002, pipe013, pipe022, pipe033, pipe042])\n",
    "print_table(res)"
   ]
  },
  {
   "cell_type": "markdown",
   "metadata": {},
   "source": [
    "## In second have to work with the dataset from Data world to carry out your training and the evaluation of your models."
   ]
  },
  {
   "cell_type": "code",
   "execution_count": 55,
   "metadata": {},
   "outputs": [],
   "source": [
    "df2 = pd.read_csv(\"data/text_emotion.csv\")"
   ]
  },
  {
   "cell_type": "code",
   "execution_count": 56,
   "metadata": {},
   "outputs": [
    {
     "data": {
      "text/html": [
       "<div>\n",
       "<style scoped>\n",
       "    .dataframe tbody tr th:only-of-type {\n",
       "        vertical-align: middle;\n",
       "    }\n",
       "\n",
       "    .dataframe tbody tr th {\n",
       "        vertical-align: top;\n",
       "    }\n",
       "\n",
       "    .dataframe thead th {\n",
       "        text-align: right;\n",
       "    }\n",
       "</style>\n",
       "<table border=\"1\" class=\"dataframe\">\n",
       "  <thead>\n",
       "    <tr style=\"text-align: right;\">\n",
       "      <th></th>\n",
       "      <th>tweet_id</th>\n",
       "      <th>sentiment</th>\n",
       "      <th>author</th>\n",
       "      <th>content</th>\n",
       "    </tr>\n",
       "  </thead>\n",
       "  <tbody>\n",
       "    <tr>\n",
       "      <th>0</th>\n",
       "      <td>1956967341</td>\n",
       "      <td>empty</td>\n",
       "      <td>xoshayzers</td>\n",
       "      <td>@tiffanylue i know  i was listenin to bad habi...</td>\n",
       "    </tr>\n",
       "    <tr>\n",
       "      <th>1</th>\n",
       "      <td>1956967666</td>\n",
       "      <td>sadness</td>\n",
       "      <td>wannamama</td>\n",
       "      <td>Layin n bed with a headache  ughhhh...waitin o...</td>\n",
       "    </tr>\n",
       "    <tr>\n",
       "      <th>2</th>\n",
       "      <td>1956967696</td>\n",
       "      <td>sadness</td>\n",
       "      <td>coolfunky</td>\n",
       "      <td>Funeral ceremony...gloomy friday...</td>\n",
       "    </tr>\n",
       "    <tr>\n",
       "      <th>3</th>\n",
       "      <td>1956967789</td>\n",
       "      <td>enthusiasm</td>\n",
       "      <td>czareaquino</td>\n",
       "      <td>wants to hang out with friends SOON!</td>\n",
       "    </tr>\n",
       "    <tr>\n",
       "      <th>4</th>\n",
       "      <td>1956968416</td>\n",
       "      <td>neutral</td>\n",
       "      <td>xkilljoyx</td>\n",
       "      <td>@dannycastillo We want to trade with someone w...</td>\n",
       "    </tr>\n",
       "  </tbody>\n",
       "</table>\n",
       "</div>"
      ],
      "text/plain": [
       "     tweet_id   sentiment       author  \\\n",
       "0  1956967341       empty   xoshayzers   \n",
       "1  1956967666     sadness    wannamama   \n",
       "2  1956967696     sadness    coolfunky   \n",
       "3  1956967789  enthusiasm  czareaquino   \n",
       "4  1956968416     neutral    xkilljoyx   \n",
       "\n",
       "                                             content  \n",
       "0  @tiffanylue i know  i was listenin to bad habi...  \n",
       "1  Layin n bed with a headache  ughhhh...waitin o...  \n",
       "2                Funeral ceremony...gloomy friday...  \n",
       "3               wants to hang out with friends SOON!  \n",
       "4  @dannycastillo We want to trade with someone w...  "
      ]
     },
     "execution_count": 56,
     "metadata": {},
     "output_type": "execute_result"
    }
   ],
   "source": [
    "df2.head()"
   ]
  },
  {
   "cell_type": "code",
   "execution_count": 57,
   "metadata": {},
   "outputs": [],
   "source": [
    "x2 = np.array(df2[\"content\"])\n",
    "y2 = np.array(df2[\"sentiment\"])\n",
    "\n",
    "x2 = vectoriser.fit_transform(x2)\n",
    "\n",
    "result2 = {}"
   ]
  },
  {
   "cell_type": "markdown",
   "metadata": {},
   "source": [
    "### Logistic Regression"
   ]
  },
  {
   "cell_type": "code",
   "execution_count": 58,
   "metadata": {},
   "outputs": [],
   "source": [
    "x_train, x_test, y_train, y_test = train_test_split(x2, y2, test_size=0.20, random_state=0)\n",
    "\n",
    "fitting(x_train, y_train, logreg)\n",
    "ypred = predict(x_test, logreg)"
   ]
  },
  {
   "cell_type": "code",
   "execution_count": 59,
   "metadata": {},
   "outputs": [],
   "source": [
    "logreg2_f1 = f1_score(y_test, ypred, average=\"weighted\")\n",
    "result2['logreg2_f1'] = logreg2_f1"
   ]
  },
  {
   "cell_type": "markdown",
   "metadata": {},
   "source": [
    "### SVC"
   ]
  },
  {
   "cell_type": "code",
   "execution_count": 60,
   "metadata": {},
   "outputs": [],
   "source": [
    "x_train, x_test, y_train, y_test = train_test_split(x2, y2, test_size=0.20, random_state=0)\n",
    "\n",
    "fitting(x_train, y_train, svclass)\n",
    "ypred = predict(x_test, svclass)"
   ]
  },
  {
   "cell_type": "code",
   "execution_count": 61,
   "metadata": {},
   "outputs": [],
   "source": [
    "svclass2_f1 = f1_score(y_test, ypred, average=\"weighted\")\n",
    "result2['svclass2_f1'] = svclass2_f1"
   ]
  },
  {
   "cell_type": "markdown",
   "metadata": {},
   "source": [
    "### SGD"
   ]
  },
  {
   "cell_type": "code",
   "execution_count": 62,
   "metadata": {},
   "outputs": [],
   "source": [
    "x_train, x_test, y_train, y_test = train_test_split(x2, y2, test_size=0.20, random_state=0)\n",
    "\n",
    "fitting(x_train, y_train, sgdc)\n",
    "ypred = predict(x_test, sgdc)"
   ]
  },
  {
   "cell_type": "code",
   "execution_count": 63,
   "metadata": {},
   "outputs": [],
   "source": [
    "sgdc2_f1 = f1_score(y_test, ypred, average=\"weighted\")\n",
    "result2['sgdc2_f1'] = sgdc2_f1"
   ]
  },
  {
   "cell_type": "markdown",
   "metadata": {},
   "source": [
    "### KNN"
   ]
  },
  {
   "cell_type": "code",
   "execution_count": 64,
   "metadata": {},
   "outputs": [],
   "source": [
    "x_train, x_test, y_train, y_test = train_test_split(x2, y2, test_size=0.20, random_state=0)\n",
    "\n",
    "fitting(x_train, y_train, knn)\n",
    "ypred = predict(x_test, knn)"
   ]
  },
  {
   "cell_type": "code",
   "execution_count": 65,
   "metadata": {},
   "outputs": [],
   "source": [
    "knn2_f1 = f1_score(y_test, ypred, average=\"weighted\")\n",
    "result2['knn2_f1'] = knn2_f1"
   ]
  },
  {
   "cell_type": "markdown",
   "metadata": {},
   "source": [
    "### Decision Tree"
   ]
  },
  {
   "cell_type": "code",
   "execution_count": 66,
   "metadata": {},
   "outputs": [],
   "source": [
    "x_train, x_test, y_train, y_test = train_test_split(x2, y2, test_size=0.20, random_state=0)\n",
    "\n",
    "fitting(x_train, y_train, dtree)\n",
    "ypred = predict(x_test, dtree)"
   ]
  },
  {
   "cell_type": "code",
   "execution_count": 67,
   "metadata": {},
   "outputs": [],
   "source": [
    "knn2_f1 = f1_score(y_test, ypred, average=\"weighted\")\n",
    "result2['knn2_f1'] = knn2_f1"
   ]
  },
  {
   "cell_type": "markdown",
   "metadata": {},
   "source": [
    "## Analyse - dataframe 2"
   ]
  },
  {
   "cell_type": "code",
   "execution_count": 68,
   "metadata": {},
   "outputs": [
    {
     "name": "stdout",
     "output_type": "stream",
     "text": [
      "         Model  F1_score\n",
      "0   logreg2_f1  0.311479\n",
      "1  svclass2_f1  0.291445\n",
      "2     sgdc2_f1  0.299419\n",
      "3      knn2_f1  0.275583\n"
     ]
    }
   ],
   "source": [
    "liste2 = []\n",
    "values2 = []\n",
    "\n",
    "for k, v in result2.items():\n",
    "    liste2.append(k)\n",
    "    values2.append(v)\n",
    "    \n",
    "dfresult2 = pd.DataFrame(columns=['Model','F1_score'])\n",
    "\n",
    "dfresult2['Model'] = pd.Series(liste2)\n",
    "dfresult2['F1_score'] = pd.Series(values2)\n",
    "\n",
    "print(dfresult2)"
   ]
  },
  {
   "cell_type": "markdown",
   "metadata": {},
   "source": [
    "With this result, useless to try to perform the model, result is too low."
   ]
  },
  {
   "cell_type": "markdown",
   "metadata": {},
   "source": [
    "## On the one hand, compare whether the classification results on your first dataset are similar with the second. Comment."
   ]
  },
  {
   "cell_type": "markdown",
   "metadata": {},
   "source": [
    "We can see the first dataset are very better than the second. \n",
    "\n",
    "The best classifier on first dataset are : __SGD Classifier__\n",
    "\n",
    "    With this F1_score : 0.9\n",
    "        \n",
    "The best classier on seconde dataset are : __Logistic Regression__\n",
    "\n",
    "    With this F1_score : 0.311\n",
    "    \n",
    "The first dataset is very better than the second. Maybe we have so much targets on the second or the corpus need more preproccessing.\n",
    "In first we will try to predict the corpus of second classifier on the targets of first classifier to observe result.\n",
    "\n",
    "We will use the best classifier for the first dataset : __SGD Classifier__"
   ]
  },
  {
   "cell_type": "markdown",
   "metadata": {},
   "source": [
    "## Predict the new emotions present in this first message dataset, and observe if the results are relevant."
   ]
  },
  {
   "cell_type": "code",
   "execution_count": 123,
   "metadata": {},
   "outputs": [],
   "source": [
    "df = pd.read_csv(\"data/emotion_final.csv\")\n",
    "df2 = pd.read_csv(\"data/text_emotion.csv\")"
   ]
  },
  {
   "cell_type": "code",
   "execution_count": 124,
   "metadata": {},
   "outputs": [],
   "source": [
    "x = np.array(df[\"Text\"])\n",
    "y = np.array(df[\"Emotion\"])\n",
    "\n",
    "x = vectoriser.fit_transform(x)"
   ]
  },
  {
   "cell_type": "code",
   "execution_count": 125,
   "metadata": {},
   "outputs": [],
   "source": [
    "x_train, x_test, y_train, y_test = train_test_split(x, y, test_size=0.20, random_state=0)\n",
    "\n",
    "fitting(x_train, y_train, sgdc)\n",
    "ypred = predict(x_test, sgdc)"
   ]
  },
  {
   "cell_type": "code",
   "execution_count": 126,
   "metadata": {},
   "outputs": [
    {
     "name": "stdout",
     "output_type": "stream",
     "text": [
      "['happy' 'sadness' 'sadness' 'fear' 'anger' 'sadness' 'fear' 'love'\n",
      " 'sadness' 'happy' 'fear' 'sadness' 'sadness' 'sadness' 'happy' 'sadness'\n",
      " 'fear' 'happy' 'happy' 'sadness' 'sadness' 'sadness' 'sadness' 'fear'\n",
      " 'happy' 'sadness' 'fear' 'love' 'sadness' 'anger' 'sadness' 'anger'\n",
      " 'anger' 'happy' 'fear' 'anger' 'happy' 'sadness' 'sadness' 'happy' 'love'\n",
      " 'happy' 'anger' 'happy' 'love' 'happy' 'love' 'happy' 'anger' 'surprise']\n",
      "['happy' 'sadness' 'sadness' 'fear' 'anger' 'sadness' 'surprise' 'love'\n",
      " 'sadness' 'happy' 'fear' 'sadness' 'sadness' 'sadness' 'love' 'sadness'\n",
      " 'fear' 'happy' 'happy' 'sadness' 'sadness' 'sadness' 'sadness' 'fear'\n",
      " 'happy' 'sadness' 'fear' 'love' 'sadness' 'anger' 'anger' 'anger' 'anger'\n",
      " 'happy' 'fear' 'anger' 'happy' 'sadness' 'sadness' 'happy' 'love' 'happy'\n",
      " 'anger' 'happy' 'happy' 'happy' 'love' 'happy' 'anger' 'surprise']\n"
     ]
    }
   ],
   "source": [
    "print(ypred[:50])\n",
    "print(y_test[:50])"
   ]
  },
  {
   "cell_type": "markdown",
   "metadata": {},
   "source": [
    "\n",
    "## Combine the two datasets to try to improve your prediction results."
   ]
  }
 ],
 "metadata": {
  "kernelspec": {
   "display_name": "Python 3",
   "language": "python",
   "name": "python3"
  },
  "language_info": {
   "codemirror_mode": {
    "name": "ipython",
    "version": 3
   },
   "file_extension": ".py",
   "mimetype": "text/x-python",
   "name": "python",
   "nbconvert_exporter": "python",
   "pygments_lexer": "ipython3",
   "version": "3.8.5"
  }
 },
 "nbformat": 4,
 "nbformat_minor": 4
}
