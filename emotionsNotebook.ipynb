{
 "cells": [
  {
   "cell_type": "markdown",
   "metadata": {},
   "source": [
    "# Wheel of emotions"
   ]
  },
  {
   "cell_type": "code",
   "execution_count": 1,
   "metadata": {},
   "outputs": [],
   "source": [
    "#import library\n",
    "import pandas as pd\n",
    "import numpy as np\n",
    "import matplotlib.pyplot as plt\n",
    "import nltk\n",
    "from sklearn.feature_extraction.text import TfidfTransformer, CountVectorizer\n",
    "from sklearn.linear_model import LogisticRegression, SGDClassifier\n",
    "from sklearn.svm import SVC\n",
    "from sklearn.model_selection import train_test_split\n",
    "from sklearn.metrics import classification_report, f1_score, make_scorer\n",
    "from sklearn.neighbors import KNeighborsClassifier\n",
    "from sklearn.tree import DecisionTreeClassifier"
   ]
  },
  {
   "cell_type": "markdown",
   "metadata": {},
   "source": [
    "## Propose several models of classification of emotions and propose a qualitative and quantitative analysis of these models according to evaluation criteria."
   ]
  },
  {
   "cell_type": "code",
   "execution_count": 2,
   "metadata": {},
   "outputs": [],
   "source": [
    "#define stopwords and vectorizer\n",
    "stopwords = nltk.corpus.stopwords.words('english')\n",
    "vectoriser = CountVectorizer(ngram_range=(1,2), stop_words = stopwords )\n"
   ]
  },
  {
   "cell_type": "code",
   "execution_count": 3,
   "metadata": {},
   "outputs": [],
   "source": [
    "#define all classification model\n",
    "logreg = LogisticRegression(max_iter = 1000)\n",
    "svclass = SVC()\n",
    "sgdc = SGDClassifier(max_iter = 5000)\n",
    "knn = KNeighborsClassifier(n_neighbors=10)\n",
    "dtree = DecisionTreeClassifier(random_state=0)\n",
    "\n",
    "#define fit and predict function\n",
    "def fitting(X, y, mod):\n",
    "    mod.fit(X, y)\n",
    "\n",
    "def predict(X, mod):\n",
    "    xx = mod.predict(X)\n",
    "    return xx"
   ]
  },
  {
   "cell_type": "markdown",
   "metadata": {},
   "source": [
    "## First have to work with the dataset from Kaggle to carry out your training and the evaluation of your models."
   ]
  },
  {
   "cell_type": "code",
   "execution_count": 4,
   "metadata": {},
   "outputs": [],
   "source": [
    "#import data\n",
    "df = pd.read_csv(\"data/emotion_final.csv\")"
   ]
  },
  {
   "cell_type": "code",
   "execution_count": 5,
   "metadata": {},
   "outputs": [
    {
     "name": "stdout",
     "output_type": "stream",
     "text": [
      "<class 'pandas.core.frame.DataFrame'>\n",
      "RangeIndex: 21459 entries, 0 to 21458\n",
      "Data columns (total 2 columns):\n",
      " #   Column   Non-Null Count  Dtype \n",
      "---  ------   --------------  ----- \n",
      " 0   Text     21459 non-null  object\n",
      " 1   Emotion  21459 non-null  object\n",
      "dtypes: object(2)\n",
      "memory usage: 335.4+ KB\n"
     ]
    }
   ],
   "source": [
    "df.info()"
   ]
  },
  {
   "cell_type": "code",
   "execution_count": 6,
   "metadata": {},
   "outputs": [],
   "source": [
    "#define x,y and clean data\n",
    "x = np.array(df[\"Text\"])\n",
    "y = np.array(df[\"Emotion\"])\n",
    "\n",
    "x = vectoriser.fit_transform(x)"
   ]
  },
  {
   "cell_type": "markdown",
   "metadata": {},
   "source": [
    "### Logistic Regression"
   ]
  },
  {
   "cell_type": "code",
   "execution_count": 7,
   "metadata": {},
   "outputs": [],
   "source": [
    "#Split data\n",
    "x_train, x_test, y_train, y_test = train_test_split(x, y, test_size=0.20, random_state=0)\n",
    "\n",
    "#fit and predict\n",
    "fitting(x_train, y_train, logreg)\n",
    "\n",
    "ypred = predict(x_test, logreg)"
   ]
  },
  {
   "cell_type": "code",
   "execution_count": 8,
   "metadata": {},
   "outputs": [
    {
     "name": "stdout",
     "output_type": "stream",
     "text": [
      "              precision    recall  f1-score   support\n",
      "\n",
      "       anger       0.90      0.89      0.89       600\n",
      "        fear       0.89      0.82      0.85       526\n",
      "       happy       0.90      0.95      0.93      1399\n",
      "        love       0.85      0.77      0.81       325\n",
      "     sadness       0.92      0.95      0.94      1258\n",
      "    surprise       0.82      0.67      0.74       184\n",
      "\n",
      "    accuracy                           0.90      4292\n",
      "   macro avg       0.88      0.84      0.86      4292\n",
      "weighted avg       0.90      0.90      0.90      4292\n",
      "\n"
     ]
    }
   ],
   "source": [
    "#print classification report\n",
    "logreg_report = classification_report(y_test, ypred)\n",
    "print(logreg_report)"
   ]
  },
  {
   "cell_type": "markdown",
   "metadata": {},
   "source": [
    "### SVC"
   ]
  },
  {
   "cell_type": "code",
   "execution_count": 9,
   "metadata": {},
   "outputs": [],
   "source": [
    "#Split data\n",
    "x_train, x_test, y_train, y_test = train_test_split(x, y, test_size=0.20, random_state=0)\n",
    "\n",
    "#fit and predict\n",
    "fitting(x_train, y_train, svclass)\n",
    "\n",
    "ypred = predict(x_test, svclass)"
   ]
  },
  {
   "cell_type": "code",
   "execution_count": 10,
   "metadata": {},
   "outputs": [
    {
     "name": "stdout",
     "output_type": "stream",
     "text": [
      "              precision    recall  f1-score   support\n",
      "\n",
      "       anger       0.92      0.63      0.75       600\n",
      "        fear       0.86      0.62      0.72       526\n",
      "       happy       0.72      0.97      0.83      1399\n",
      "        love       0.92      0.40      0.56       325\n",
      "     sadness       0.82      0.92      0.87      1258\n",
      "    surprise       0.96      0.36      0.52       184\n",
      "\n",
      "    accuracy                           0.80      4292\n",
      "   macro avg       0.87      0.65      0.71      4292\n",
      "weighted avg       0.82      0.80      0.78      4292\n",
      "\n"
     ]
    }
   ],
   "source": [
    "#print classification report\n",
    "svclass_report = classification_report(y_test, ypred)\n",
    "print(svclass_report)"
   ]
  },
  {
   "cell_type": "markdown",
   "metadata": {},
   "source": [
    "### SGD"
   ]
  },
  {
   "cell_type": "code",
   "execution_count": 11,
   "metadata": {},
   "outputs": [],
   "source": [
    "#Split data\n",
    "x_train, x_test, y_train, y_test = train_test_split(x, y, test_size=0.20, random_state=0)\n",
    "\n",
    "#fit and predict\n",
    "fitting(x_train, y_train, sgdc)\n",
    "\n",
    "ypred = predict(x_test, sgdc)"
   ]
  },
  {
   "cell_type": "code",
   "execution_count": 12,
   "metadata": {},
   "outputs": [
    {
     "name": "stdout",
     "output_type": "stream",
     "text": [
      "              precision    recall  f1-score   support\n",
      "\n",
      "       anger       0.91      0.90      0.90       600\n",
      "        fear       0.89      0.85      0.87       526\n",
      "       happy       0.93      0.93      0.93      1399\n",
      "        love       0.81      0.81      0.81       325\n",
      "     sadness       0.92      0.95      0.94      1258\n",
      "    surprise       0.85      0.72      0.78       184\n",
      "\n",
      "    accuracy                           0.91      4292\n",
      "   macro avg       0.88      0.86      0.87      4292\n",
      "weighted avg       0.91      0.91      0.91      4292\n",
      "\n"
     ]
    }
   ],
   "source": [
    "#print classification report\n",
    "sgdc_report = classification_report(y_test, ypred)\n",
    "print(sgdc_report)"
   ]
  },
  {
   "cell_type": "markdown",
   "metadata": {},
   "source": [
    "### KNN"
   ]
  },
  {
   "cell_type": "code",
   "execution_count": 13,
   "metadata": {},
   "outputs": [],
   "source": [
    "#Split data\n",
    "x_train, x_test, y_train, y_test = train_test_split(x, y, test_size=0.20, random_state=0)\n",
    "\n",
    "#fit and predict\n",
    "fitting(x_train, y_train, knn)\n",
    "\n",
    "ypred = predict(x_test, knn)"
   ]
  },
  {
   "cell_type": "code",
   "execution_count": 14,
   "metadata": {},
   "outputs": [
    {
     "name": "stdout",
     "output_type": "stream",
     "text": [
      "              precision    recall  f1-score   support\n",
      "\n",
      "       anger       0.26      0.64      0.37       600\n",
      "        fear       0.62      0.32      0.42       526\n",
      "       happy       0.58      0.57      0.57      1399\n",
      "        love       0.54      0.07      0.12       325\n",
      "     sadness       0.56      0.50      0.53      1258\n",
      "    surprise       0.53      0.05      0.09       184\n",
      "\n",
      "    accuracy                           0.47      4292\n",
      "   macro avg       0.51      0.36      0.35      4292\n",
      "weighted avg       0.53      0.47      0.46      4292\n",
      "\n"
     ]
    }
   ],
   "source": [
    "#print classification report\n",
    "knn_report = classification_report(y_test, ypred)\n",
    "print(knn_report)"
   ]
  },
  {
   "cell_type": "markdown",
   "metadata": {},
   "source": [
    "### Decision Tree"
   ]
  },
  {
   "cell_type": "code",
   "execution_count": 15,
   "metadata": {},
   "outputs": [],
   "source": [
    "#Split data\n",
    "x_train, x_test, y_train, y_test = train_test_split(x, y, test_size=0.20, random_state=0)\n",
    "\n",
    "#fit and predict\n",
    "fitting(x_train, y_train, dtree)\n",
    "\n",
    "ypred = predict(x_test, dtree)"
   ]
  },
  {
   "cell_type": "code",
   "execution_count": 16,
   "metadata": {},
   "outputs": [
    {
     "name": "stdout",
     "output_type": "stream",
     "text": [
      "              precision    recall  f1-score   support\n",
      "\n",
      "       anger       0.83      0.89      0.86       600\n",
      "        fear       0.84      0.84      0.84       526\n",
      "       happy       0.90      0.90      0.90      1399\n",
      "        love       0.79      0.79      0.79       325\n",
      "     sadness       0.92      0.89      0.90      1258\n",
      "    surprise       0.77      0.74      0.76       184\n",
      "\n",
      "    accuracy                           0.87      4292\n",
      "   macro avg       0.84      0.84      0.84      4292\n",
      "weighted avg       0.87      0.87      0.87      4292\n",
      "\n"
     ]
    }
   ],
   "source": [
    "#print classification report\n",
    "dtree_report = classification_report(y_test, ypred)\n",
    "print(dtree_report)"
   ]
  },
  {
   "cell_type": "markdown",
   "metadata": {},
   "source": [
    "## Analyse - dataframe 1"
   ]
  },
  {
   "cell_type": "code",
   "execution_count": null,
   "metadata": {},
   "outputs": [],
   "source": []
  },
  {
   "cell_type": "markdown",
   "metadata": {},
   "source": [
    "## In second have to work with the dataset from Data world to carry out your training and the evaluation of your models."
   ]
  },
  {
   "cell_type": "code",
   "execution_count": 17,
   "metadata": {},
   "outputs": [],
   "source": [
    "#import data\n",
    "df2 = pd.read_csv(\"data/text_emotion.csv\")"
   ]
  },
  {
   "cell_type": "code",
   "execution_count": 18,
   "metadata": {},
   "outputs": [
    {
     "data": {
      "text/html": [
       "<div>\n",
       "<style scoped>\n",
       "    .dataframe tbody tr th:only-of-type {\n",
       "        vertical-align: middle;\n",
       "    }\n",
       "\n",
       "    .dataframe tbody tr th {\n",
       "        vertical-align: top;\n",
       "    }\n",
       "\n",
       "    .dataframe thead th {\n",
       "        text-align: right;\n",
       "    }\n",
       "</style>\n",
       "<table border=\"1\" class=\"dataframe\">\n",
       "  <thead>\n",
       "    <tr style=\"text-align: right;\">\n",
       "      <th></th>\n",
       "      <th>tweet_id</th>\n",
       "      <th>sentiment</th>\n",
       "      <th>author</th>\n",
       "      <th>content</th>\n",
       "    </tr>\n",
       "  </thead>\n",
       "  <tbody>\n",
       "    <tr>\n",
       "      <th>0</th>\n",
       "      <td>1956967341</td>\n",
       "      <td>empty</td>\n",
       "      <td>xoshayzers</td>\n",
       "      <td>@tiffanylue i know  i was listenin to bad habi...</td>\n",
       "    </tr>\n",
       "    <tr>\n",
       "      <th>1</th>\n",
       "      <td>1956967666</td>\n",
       "      <td>sadness</td>\n",
       "      <td>wannamama</td>\n",
       "      <td>Layin n bed with a headache  ughhhh...waitin o...</td>\n",
       "    </tr>\n",
       "    <tr>\n",
       "      <th>2</th>\n",
       "      <td>1956967696</td>\n",
       "      <td>sadness</td>\n",
       "      <td>coolfunky</td>\n",
       "      <td>Funeral ceremony...gloomy friday...</td>\n",
       "    </tr>\n",
       "    <tr>\n",
       "      <th>3</th>\n",
       "      <td>1956967789</td>\n",
       "      <td>enthusiasm</td>\n",
       "      <td>czareaquino</td>\n",
       "      <td>wants to hang out with friends SOON!</td>\n",
       "    </tr>\n",
       "    <tr>\n",
       "      <th>4</th>\n",
       "      <td>1956968416</td>\n",
       "      <td>neutral</td>\n",
       "      <td>xkilljoyx</td>\n",
       "      <td>@dannycastillo We want to trade with someone w...</td>\n",
       "    </tr>\n",
       "  </tbody>\n",
       "</table>\n",
       "</div>"
      ],
      "text/plain": [
       "     tweet_id   sentiment       author  \\\n",
       "0  1956967341       empty   xoshayzers   \n",
       "1  1956967666     sadness    wannamama   \n",
       "2  1956967696     sadness    coolfunky   \n",
       "3  1956967789  enthusiasm  czareaquino   \n",
       "4  1956968416     neutral    xkilljoyx   \n",
       "\n",
       "                                             content  \n",
       "0  @tiffanylue i know  i was listenin to bad habi...  \n",
       "1  Layin n bed with a headache  ughhhh...waitin o...  \n",
       "2                Funeral ceremony...gloomy friday...  \n",
       "3               wants to hang out with friends SOON!  \n",
       "4  @dannycastillo We want to trade with someone w...  "
      ]
     },
     "execution_count": 18,
     "metadata": {},
     "output_type": "execute_result"
    }
   ],
   "source": [
    "df2.head()"
   ]
  },
  {
   "cell_type": "code",
   "execution_count": 19,
   "metadata": {},
   "outputs": [],
   "source": [
    "#define x,y and clean data\n",
    "x2 = np.array(df2[\"content\"])\n",
    "y2 = np.array(df2[\"sentiment\"])\n",
    "\n",
    "x2 = vectoriser.fit_transform(x2)"
   ]
  },
  {
   "cell_type": "markdown",
   "metadata": {},
   "source": [
    "### Logistic Regression"
   ]
  },
  {
   "cell_type": "code",
   "execution_count": 20,
   "metadata": {},
   "outputs": [],
   "source": [
    "#Split data\n",
    "x_train, x_test, y_train, y_test = train_test_split(x2, y2, test_size=0.20, random_state=0)\n",
    "\n",
    "#fit and predict\n",
    "fitting(x_train, y_train, logreg)\n",
    "\n",
    "ypred = predict(x_test, logreg)"
   ]
  },
  {
   "cell_type": "code",
   "execution_count": 21,
   "metadata": {},
   "outputs": [
    {
     "name": "stdout",
     "output_type": "stream",
     "text": [
      "              precision    recall  f1-score   support\n",
      "\n",
      "       anger       0.00      0.00      0.00        19\n",
      "     boredom       0.00      0.00      0.00        37\n",
      "       empty       0.10      0.01      0.01       147\n",
      "  enthusiasm       0.00      0.00      0.00       147\n",
      "         fun       0.21      0.06      0.09       354\n",
      "   happiness       0.32      0.32      0.32      1052\n",
      "        hate       0.33      0.13      0.18       251\n",
      "        love       0.51      0.40      0.45       780\n",
      "     neutral       0.34      0.59      0.43      1743\n",
      "      relief       0.19      0.05      0.08       292\n",
      "     sadness       0.34      0.27      0.30      1062\n",
      "    surprise       0.16      0.04      0.06       422\n",
      "       worry       0.33      0.40      0.36      1694\n",
      "\n",
      "    accuracy                           0.34      8000\n",
      "   macro avg       0.22      0.17      0.18      8000\n",
      "weighted avg       0.32      0.34      0.31      8000\n",
      "\n"
     ]
    },
    {
     "name": "stderr",
     "output_type": "stream",
     "text": [
      "/home/randon/anaconda3/envs/devia/lib/python3.8/site-packages/sklearn/metrics/_classification.py:1221: UndefinedMetricWarning: Precision and F-score are ill-defined and being set to 0.0 in labels with no predicted samples. Use `zero_division` parameter to control this behavior.\n",
      "  _warn_prf(average, modifier, msg_start, len(result))\n"
     ]
    }
   ],
   "source": [
    "#print classification report\n",
    "logreg_report2 = classification_report(y_test, ypred)\n",
    "print(logreg_report2)"
   ]
  },
  {
   "cell_type": "markdown",
   "metadata": {},
   "source": [
    "### SVC"
   ]
  },
  {
   "cell_type": "code",
   "execution_count": 22,
   "metadata": {},
   "outputs": [],
   "source": [
    "#Split data\n",
    "x_train, x_test, y_train, y_test = train_test_split(x2, y2, test_size=0.20, random_state=0)\n",
    "\n",
    "#fit and predict\n",
    "fitting(x_train, y_train, svclass)\n",
    "\n",
    "ypred = predict(x_test, svclass)"
   ]
  },
  {
   "cell_type": "code",
   "execution_count": 23,
   "metadata": {},
   "outputs": [
    {
     "name": "stdout",
     "output_type": "stream",
     "text": [
      "              precision    recall  f1-score   support\n",
      "\n",
      "       anger       0.00      0.00      0.00        19\n",
      "     boredom       0.00      0.00      0.00        37\n",
      "       empty       0.00      0.00      0.00       147\n",
      "  enthusiasm       0.00      0.00      0.00       147\n",
      "         fun       0.00      0.00      0.00       354\n",
      "   happiness       0.34      0.34      0.34      1052\n",
      "        hate       0.40      0.08      0.13       251\n",
      "        love       0.57      0.35      0.43       780\n",
      "     neutral       0.33      0.61      0.43      1743\n",
      "      relief       0.25      0.01      0.01       292\n",
      "     sadness       0.42      0.13      0.20      1062\n",
      "    surprise       0.27      0.01      0.02       422\n",
      "       worry       0.30      0.50      0.37      1694\n",
      "\n",
      "    accuracy                           0.34      8000\n",
      "   macro avg       0.22      0.16      0.15      8000\n",
      "weighted avg       0.33      0.34      0.29      8000\n",
      "\n"
     ]
    }
   ],
   "source": [
    "#print classification report\n",
    "svclass_report2 = classification_report(y_test, ypred)\n",
    "print(svclass_report2)"
   ]
  },
  {
   "cell_type": "markdown",
   "metadata": {},
   "source": [
    "### SGD"
   ]
  },
  {
   "cell_type": "code",
   "execution_count": 24,
   "metadata": {},
   "outputs": [],
   "source": [
    "#Split data\n",
    "x_train, x_test, y_train, y_test = train_test_split(x2, y2, test_size=0.20, random_state=0)\n",
    "\n",
    "#fit and predict\n",
    "fitting(x_train, y_train, sgdc)\n",
    "\n",
    "ypred = predict(x_test, sgdc)"
   ]
  },
  {
   "cell_type": "code",
   "execution_count": 25,
   "metadata": {},
   "outputs": [
    {
     "name": "stdout",
     "output_type": "stream",
     "text": [
      "              precision    recall  f1-score   support\n",
      "\n",
      "       anger       0.00      0.00      0.00        19\n",
      "     boredom       0.00      0.00      0.00        37\n",
      "       empty       0.04      0.01      0.01       147\n",
      "  enthusiasm       0.05      0.01      0.01       147\n",
      "         fun       0.16      0.05      0.08       354\n",
      "   happiness       0.30      0.31      0.31      1052\n",
      "        hate       0.29      0.15      0.20       251\n",
      "        love       0.47      0.41      0.44       780\n",
      "     neutral       0.34      0.55      0.42      1743\n",
      "      relief       0.18      0.06      0.09       292\n",
      "     sadness       0.31      0.27      0.29      1062\n",
      "    surprise       0.11      0.03      0.05       422\n",
      "       worry       0.32      0.37      0.35      1694\n",
      "\n",
      "    accuracy                           0.33      8000\n",
      "   macro avg       0.20      0.17      0.17      8000\n",
      "weighted avg       0.30      0.33      0.30      8000\n",
      "\n"
     ]
    }
   ],
   "source": [
    "#print classification report\n",
    "sgdc_report2 = classification_report(y_test, ypred)\n",
    "print(sgdc_report2)"
   ]
  },
  {
   "cell_type": "markdown",
   "metadata": {},
   "source": [
    "### KNN"
   ]
  },
  {
   "cell_type": "code",
   "execution_count": 26,
   "metadata": {},
   "outputs": [],
   "source": [
    "#Split data\n",
    "x_train, x_test, y_train, y_test = train_test_split(x2, y2, test_size=0.20, random_state=0)\n",
    "\n",
    "#fit and predict\n",
    "fitting(x_train, y_train, knn)\n",
    "\n",
    "ypred = predict(x_test, knn)"
   ]
  },
  {
   "cell_type": "code",
   "execution_count": 27,
   "metadata": {},
   "outputs": [
    {
     "name": "stdout",
     "output_type": "stream",
     "text": [
      "              precision    recall  f1-score   support\n",
      "\n",
      "       anger       0.00      0.00      0.00        19\n",
      "     boredom       0.00      0.00      0.00        37\n",
      "       empty       0.07      0.01      0.02       147\n",
      "  enthusiasm       0.00      0.00      0.00       147\n",
      "         fun       0.33      0.01      0.01       354\n",
      "   happiness       0.24      0.06      0.10      1052\n",
      "        hate       0.00      0.00      0.00       251\n",
      "        love       0.45      0.12      0.19       780\n",
      "     neutral       0.23      0.81      0.36      1743\n",
      "      relief       0.00      0.00      0.00       292\n",
      "     sadness       0.28      0.04      0.07      1062\n",
      "    surprise       0.00      0.00      0.00       422\n",
      "       worry       0.23      0.17      0.20      1694\n",
      "\n",
      "    accuracy                           0.24      8000\n",
      "   macro avg       0.14      0.09      0.07      8000\n",
      "weighted avg       0.23      0.24      0.16      8000\n",
      "\n"
     ]
    },
    {
     "name": "stderr",
     "output_type": "stream",
     "text": [
      "/home/randon/anaconda3/envs/devia/lib/python3.8/site-packages/sklearn/metrics/_classification.py:1221: UndefinedMetricWarning: Precision and F-score are ill-defined and being set to 0.0 in labels with no predicted samples. Use `zero_division` parameter to control this behavior.\n",
      "  _warn_prf(average, modifier, msg_start, len(result))\n"
     ]
    }
   ],
   "source": [
    "#print classification report\n",
    "knn_report2 = classification_report(y_test, ypred)\n",
    "print(knn_report2)"
   ]
  },
  {
   "cell_type": "markdown",
   "metadata": {},
   "source": [
    "### Decision Tree"
   ]
  },
  {
   "cell_type": "code",
   "execution_count": 28,
   "metadata": {},
   "outputs": [],
   "source": [
    "#Split data\n",
    "x_train, x_test, y_train, y_test = train_test_split(x2, y2, test_size=0.20, random_state=0)\n",
    "\n",
    "#fit and predict\n",
    "fitting(x_train, y_train, dtree)\n",
    "\n",
    "ypred = predict(x_test, dtree)"
   ]
  },
  {
   "cell_type": "code",
   "execution_count": 29,
   "metadata": {},
   "outputs": [
    {
     "name": "stdout",
     "output_type": "stream",
     "text": [
      "              precision    recall  f1-score   support\n",
      "\n",
      "       anger       0.00      0.00      0.00        19\n",
      "     boredom       0.09      0.03      0.04        37\n",
      "       empty       0.03      0.03      0.03       147\n",
      "  enthusiasm       0.04      0.01      0.02       147\n",
      "         fun       0.13      0.07      0.09       354\n",
      "   happiness       0.25      0.28      0.27      1052\n",
      "        hate       0.21      0.16      0.18       251\n",
      "        love       0.39      0.34      0.36       780\n",
      "     neutral       0.34      0.47      0.39      1743\n",
      "      relief       0.10      0.07      0.08       292\n",
      "     sadness       0.30      0.23      0.26      1062\n",
      "    surprise       0.09      0.05      0.06       422\n",
      "       worry       0.30      0.34      0.32      1694\n",
      "\n",
      "    accuracy                           0.29      8000\n",
      "   macro avg       0.17      0.16      0.16      8000\n",
      "weighted avg       0.27      0.29      0.28      8000\n",
      "\n"
     ]
    }
   ],
   "source": [
    "#print classification report\n",
    "dtree_report2 = classification_report(y_test, ypred)\n",
    "print(dtree_report2)"
   ]
  },
  {
   "cell_type": "markdown",
   "metadata": {},
   "source": [
    "## Analyse - dataframe 2"
   ]
  },
  {
   "cell_type": "code",
   "execution_count": null,
   "metadata": {},
   "outputs": [],
   "source": []
  },
  {
   "cell_type": "markdown",
   "metadata": {},
   "source": [
    "## On the one hand, compare whether the classification results on your first dataset are similar with the second. Comment."
   ]
  },
  {
   "cell_type": "code",
   "execution_count": null,
   "metadata": {},
   "outputs": [],
   "source": []
  }
 ],
 "metadata": {
  "kernelspec": {
   "display_name": "Python 3",
   "language": "python",
   "name": "python3"
  },
  "language_info": {
   "codemirror_mode": {
    "name": "ipython",
    "version": 3
   },
   "file_extension": ".py",
   "mimetype": "text/x-python",
   "name": "python",
   "nbconvert_exporter": "python",
   "pygments_lexer": "ipython3",
   "version": "3.8.5"
  }
 },
 "nbformat": 4,
 "nbformat_minor": 4
}
